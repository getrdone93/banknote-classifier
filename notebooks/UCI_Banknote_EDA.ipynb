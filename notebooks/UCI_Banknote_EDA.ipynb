{
 "cells": [
  {
   "cell_type": "markdown",
   "metadata": {},
   "source": [
    "# This notebook uses the UCI banknote dataset\n",
    "- https://archive.ics.uci.edu/ml/datasets/banknote+authentication"
   ]
  },
  {
   "cell_type": "code",
   "execution_count": null,
   "metadata": {},
   "outputs": [],
   "source": [
    "import pandas as pd\n",
    "import matplotlib.pyplot as pyplot\n",
    "import itertools\n",
    "from mpl_toolkits import mplot3d\n",
    "from scipy.stats import zscore\n",
    "import keras\n",
    "from keras.models import Sequential\n",
    "from keras.layers import Dense\n",
    "import numpy as np\n",
    "from sklearn import metrics\n",
    "\n",
    "%matplotlib inline"
   ]
  },
  {
   "cell_type": "markdown",
   "metadata": {},
   "source": [
    "## Data set"
   ]
  },
  {
   "cell_type": "code",
   "execution_count": null,
   "metadata": {},
   "outputs": [],
   "source": [
    "df = pd.read_csv('../dataset/data_banknote_authentication.csv')\n",
    "feats = list(df)[:-1]\n",
    "df.drop_duplicates(keep='first', inplace=True, ignore_index=True, subset=feats)\n",
    "neg, pos = [df.loc[df['class'] == arg] for arg in (0, 1)]\n",
    "total = len(df)\n",
    "print(\"negative: {:.0%}, positive: {:.0%}\".format(len(neg) / total, len(pos) / total))\n",
    "df.describe()"
   ]
  },
  {
   "cell_type": "markdown",
   "metadata": {},
   "source": [
    "## Feature Plots"
   ]
  },
  {
   "cell_type": "code",
   "execution_count": null,
   "metadata": {},
   "outputs": [],
   "source": [
    "#One dimensional plots\n",
    "for f in feats:\n",
    "    pos_fs, neg_fs = list(pos[f]), list(neg[f])\n",
    "    p_xs, n_xs = range(len(pos_fs)), range(len(neg_fs))\n",
    "    fig, ax = pyplot.subplots()\n",
    "    ax.plot(p_xs, pos_fs, 'ro', n_xs, neg_fs, 'bo')\n",
    "    fig.suptitle(f)"
   ]
  },
  {
   "cell_type": "markdown",
   "metadata": {},
   "source": [
    "The blue dots hang over the side due to class imbalance and inclusion of all points.\n",
    "\n",
    "- Variance appears to be the most informative feature. \n",
    "- Skewness and curtosis show that some positive examples can be identified on the outskirts of their respective distributions.\n",
    "- Entropy appears to be less informative than the other features."
   ]
  },
  {
   "cell_type": "code",
   "execution_count": null,
   "metadata": {},
   "outputs": [],
   "source": [
    "#Two dimensional plots\n",
    "for f1, f2 in itertools.combinations(feats, 2):\n",
    "    px, py = list(pos[f1]), list(pos[f2])\n",
    "    nx, ny = list(neg[f1]), list(neg[f2])\n",
    "    fig, ax = pyplot.subplots()\n",
    "    ax.plot(px, py, 'ro', nx, ny, 'bo')\n",
    "    fig.suptitle(\"{}-{}\".format(f1, f2))\n",
    "    "
   ]
  },
  {
   "cell_type": "markdown",
   "metadata": {},
   "source": [
    " - Plots with variance show formation of point clouds.\n",
    " - When coupled with variance, skewness and curtosis show isolated clouds of positive examples.\n",
    " - variance-entropy shows the potential for separability.\n",
    " - Plots without variance are not well separatred.\n",
    " - skewness-entropy and skewness-curtosis appear to show the shifts in the feature distributions."
   ]
  },
  {
   "cell_type": "code",
   "execution_count": null,
   "metadata": {},
   "outputs": [],
   "source": [
    "#Three dimensional plots\n",
    "for f1, f2, f3 in itertools.combinations(feats, 3):\n",
    "    pos_dp, neg_dp = [[list(df[f]) for f in (f1, f2, f3)] for df in (pos, neg)]\n",
    "    fig = pyplot.figure()\n",
    "    ax = pyplot.axes(projection='3d')\n",
    "    for d, c, m in ((pos_dp, 'r', 'o'), (neg_dp, 'b', 'o')):\n",
    "        ax.scatter3D(d[0], d[1], d[2], c=c, marker=m)\n",
    "        fig.suptitle(\"{}-{}-{}\".format(f1, f2, f3))"
   ]
  },
  {
   "cell_type": "markdown",
   "metadata": {},
   "source": [
    "- variance-skewness-curtosis appears to show two nearly distinct clouds. Rotating that graph may show a few mixed points, but not many.\n",
    "- The other plots show cloud formation, but they appear to be less distinct."
   ]
  }
 ],
 "metadata": {
  "kernelspec": {
   "display_name": "Python 3",
   "language": "python",
   "name": "python3"
  },
  "language_info": {
   "codemirror_mode": {
    "name": "ipython",
    "version": 3
   },
   "file_extension": ".py",
   "mimetype": "text/x-python",
   "name": "python",
   "nbconvert_exporter": "python",
   "pygments_lexer": "ipython3",
   "version": "3.6.9"
  }
 },
 "nbformat": 4,
 "nbformat_minor": 4
}
