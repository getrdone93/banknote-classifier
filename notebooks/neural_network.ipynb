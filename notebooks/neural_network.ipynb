{
 "cells": [
  {
   "cell_type": "markdown",
   "metadata": {},
   "source": [
    "# This notebook uses the UCI banknote dataset\n",
    "- https://archive.ics.uci.edu/ml/datasets/banknote+authentication"
   ]
  },
  {
   "cell_type": "code",
   "execution_count": null,
   "metadata": {
    "scrolled": false
   },
   "outputs": [],
   "source": [
    "import pandas as pd\n",
    "import matplotlib.pyplot as pyplot\n",
    "import itertools\n",
    "from mpl_toolkits import mplot3d\n",
    "from scipy.stats import zscore\n",
    "import keras\n",
    "from keras.models import Sequential\n",
    "from keras.layers import Dense\n",
    "import numpy as np\n",
    "from sklearn import metrics\n",
    "\n",
    "%matplotlib inline"
   ]
  },
  {
   "cell_type": "markdown",
   "metadata": {},
   "source": [
    "## Data set"
   ]
  },
  {
   "cell_type": "code",
   "execution_count": null,
   "metadata": {},
   "outputs": [],
   "source": [
    "df = pd.read_csv('../dataset/data_banknote_authentication.csv')\n",
    "feats = list(df)[:-1]\n",
    "df.drop_duplicates(keep='first', inplace=True, ignore_index=True, subset=feats)\n",
    "neg, pos = [df.loc[df['class'] == arg] for arg in (0, 1)]\n",
    "total = len(df)\n",
    "print(\"negative: {:.0%}, positive: {:.0%}\".format(len(neg) / total, len(pos) / total))\n",
    "df.describe()"
   ]
  },
  {
   "cell_type": "markdown",
   "metadata": {},
   "source": [
    "## Feature Plots"
   ]
  },
  {
   "cell_type": "code",
   "execution_count": null,
   "metadata": {},
   "outputs": [],
   "source": [
    "#One dimensional plots\n",
    "for f in feats:\n",
    "    pos_fs, neg_fs = list(pos[f]), list(neg[f])\n",
    "    p_xs, n_xs = range(len(pos_fs)), range(len(neg_fs))\n",
    "    fig, ax = pyplot.subplots()\n",
    "    ax.plot(p_xs, pos_fs, 'ro', n_xs, neg_fs, 'bo')\n",
    "    fig.suptitle(f)"
   ]
  },
  {
   "cell_type": "markdown",
   "metadata": {},
   "source": [
    "The blue dots hang over the side due to class imbalance and inclusion of all points.\n",
    "\n",
    "- Variance appears to be the most informative feature. \n",
    "- Skewness and curtosis show that some positive examples can be identified on the outskirts of their respective distributions.\n",
    "- Entropy appears to be less informative than the other features."
   ]
  },
  {
   "cell_type": "code",
   "execution_count": null,
   "metadata": {},
   "outputs": [],
   "source": [
    "#Two dimensional plots\n",
    "for f1, f2 in itertools.combinations(feats, 2):\n",
    "    px, py = list(pos[f1]), list(pos[f2])\n",
    "    nx, ny = list(neg[f1]), list(neg[f2])\n",
    "    fig, ax = pyplot.subplots()\n",
    "    ax.plot(px, py, 'ro', nx, ny, 'bo')\n",
    "    fig.suptitle(\"{}-{}\".format(f1, f2))\n",
    "    "
   ]
  },
  {
   "cell_type": "markdown",
   "metadata": {},
   "source": [
    " - Plots with variance show formation of point clouds.\n",
    " - When coupled with variance, skewness and curtosis show isolated clouds of positive examples.\n",
    " - variance-entropy shows the potential for separability.\n",
    " - Plots without variance are not well separatred.\n",
    " - skewness-entropy and skewness-curtosis appear to show the shifts in the feature distributions."
   ]
  },
  {
   "cell_type": "code",
   "execution_count": null,
   "metadata": {},
   "outputs": [],
   "source": [
    "#Three dimensional plots\n",
    "for f1, f2, f3 in itertools.combinations(feats, 3):\n",
    "    pos_dp, neg_dp = [[list(df[f]) for f in (f1, f2, f3)] for df in (pos, neg)]\n",
    "    fig = pyplot.figure()\n",
    "    ax = pyplot.axes(projection='3d')\n",
    "    for d, c, m in ((pos_dp, 'r', 'o'), (neg_dp, 'b', 'o')):\n",
    "        ax.scatter3D(d[0], d[1], d[2], c=c, marker=m)\n",
    "        fig.suptitle(\"{}-{}-{}\".format(f1, f2, f3))"
   ]
  },
  {
   "cell_type": "markdown",
   "metadata": {},
   "source": [
    "- variance-skewness-curtosis appears to show two nearly distinct clouds. Rotating that graph may show a few mixed points, but not many.\n",
    "- The other plots show cloud formation, but they appear to be less distinct."
   ]
  },
  {
   "cell_type": "markdown",
   "metadata": {},
   "source": [
    "## Neural Net"
   ]
  },
  {
   "cell_type": "code",
   "execution_count": null,
   "metadata": {},
   "outputs": [],
   "source": [
    "#standardize data\n",
    "for f in feats:\n",
    "    df.update({f: zscore(df[f])})\n",
    "\n",
    "#Plot standardized features\n",
    "xs = range(len(df))     \n",
    "args = [(f, xs, df[f], c) for f, c in zip(feats, ('ro', 'bo', 'go', 'yo'))]     \n",
    "for a in args:         \n",
    "    ar = a[1:]         \n",
    "    fig, ax = pyplot.subplots()         \n",
    "    ax.plot(*ar)\n",
    "    fig.suptitle(a[0])"
   ]
  },
  {
   "cell_type": "markdown",
   "metadata": {},
   "source": [
    "Standardization or zscores were chosen because the outliars in curtosis and entropy produced distinct point clouds.\n",
    "\n",
    "- The distributions of the features overlap from [-2, 2]."
   ]
  },
  {
   "cell_type": "code",
   "execution_count": null,
   "metadata": {},
   "outputs": [],
   "source": [
    "#Split the data, 80/20\n",
    "sp = 0.8\n",
    "n = len(df.loc[df['class'] == 0]) / len(df)\n",
    "p = 1 - n\n",
    "train = int(len(df) * sp)\n",
    "trp = int(train * p)\n",
    "trn = train - trp\n",
    "\n",
    "pos = df.loc[df['class'] == 1].sample(frac=1)\n",
    "train_pos, test_pos = pos.iloc[:trp], pos.iloc[trp:]\n",
    "\n",
    "neg = df.loc[df['class'] == 0].sample(frac=1)\n",
    "train_neg, test_neg = neg.iloc[:trn], neg.iloc[trn:]\n",
    "\n",
    "df_train_tot = len(train_pos) + len(train_neg)\n",
    "df_test_tot = len(test_pos) + len(test_neg)\n",
    "print(\"train pos: {:.0%}, train neg: {:.0%}\"\\\n",
    "          .format(len(train_pos) / df_train_tot, len(train_neg) / df_train_tot))\n",
    "print(\"train pos: {:.0%}, train neg: {:.0%}\"\\\n",
    "          .format(len(test_pos) / df_test_tot, len(test_neg) / df_test_tot))\n",
    "print(\"train: {:.0%}, test: {:.0%}\".format(df_train_tot / len(df), df_test_tot / len(df)))"
   ]
  },
  {
   "cell_type": "code",
   "execution_count": null,
   "metadata": {},
   "outputs": [],
   "source": [
    "def xs_and_ys(df):\n",
    "    return np.asarray(df[list(df)[:-1]]), np.asarray(df[list(df)[-1]])\n",
    "\n",
    "#Sort all of train and test sets and create mappings\n",
    "all_train = pd.concat([train_pos, train_neg]).sample(frac=1)\n",
    "all_test = pd.concat([test_pos, test_neg]).sample(frac=1)\n",
    "trn_x, trn_y = xs_and_ys(all_train)\n",
    "tst_x, tst_y = xs_and_ys(all_test)\n",
    "\n",
    "#Create model and train\n",
    "model = Sequential()\n",
    "model.add(Dense(3, input_dim=4, activation='relu'))\n",
    "model.add(Dense(1, activation='sigmoid'))\n",
    "model.compile(loss='binary_crossentropy', optimizer='SGD', metrics=['accuracy'])\n",
    "model.fit(trn_x, trn_y, epochs=15, batch_size=5)"
   ]
  },
  {
   "cell_type": "code",
   "execution_count": null,
   "metadata": {},
   "outputs": [],
   "source": [
    "#Evaludate model\n",
    "loss, acc = model.evaluate(tst_x, tst_y)\n",
    "print(\"eval: loss: {:.04}, acc: {:.0%}\".format(loss, acc))\n",
    "\n",
    "#Create ROC graph\n",
    "preds = model.predict(tst_x)\n",
    "ps, ys = zip(*[(preds[i][0], tst_y[i]) for i in range(len(preds))])\n",
    "fp_rate, tp_rate, th = metrics.roc_curve(np.array(ys), np.array(ps))\n",
    "sk_fig, sk_ax = pyplot.subplots()\n",
    "\n",
    "sk_ax.plot(fp_rate, tp_rate, 'b', [0, 1], [0, 1], '--r')\n",
    "sk_ax.set_xlabel('FPR')\n",
    "sk_ax.set_ylabel('TPR')\n",
    "auc = metrics.auc(fp_rate, tp_rate)\n",
    "sk_ax.legend([\"AUC = {:.05}\".format(auc)])\n",
    "sk_fig.suptitle('ROC Curve')"
   ]
  }
 ],
 "metadata": {
  "kernelspec": {
   "display_name": "Python 3",
   "language": "python",
   "name": "python3"
  },
  "language_info": {
   "codemirror_mode": {
    "name": "ipython",
    "version": 3
   },
   "file_extension": ".py",
   "mimetype": "text/x-python",
   "name": "python",
   "nbconvert_exporter": "python",
   "pygments_lexer": "ipython3",
   "version": "3.6.9"
  }
 },
 "nbformat": 4,
 "nbformat_minor": 4
}
